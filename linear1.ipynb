{
 "cells": [
  {
   "cell_type": "code",
   "execution_count": null,
   "id": "0849f07c",
   "metadata": {
    "lines_to_next_cell": 1
   },
   "outputs": [],
   "source": [
    "# Importing necessary libraries\n",
    "import numpy as np\n",
    "import pandas as pd\n",
    "import matplotlib.pyplot as plt"
   ]
  },
  {
   "cell_type": "code",
   "execution_count": null,
   "id": "7b9f94eb",
   "metadata": {
    "lines_to_next_cell": 1
   },
   "outputs": [],
   "source": [
    "# Function to standardize features using Z-score\n",
    "def zscore(x):\n",
    "    mean = np.mean(x, axis=0)\n",
    "    sigma = np.std(x, axis=0)\n",
    "    x_norm = (x - mean) / sigma\n",
    "    return x_norm"
   ]
  },
  {
   "cell_type": "code",
   "execution_count": null,
   "id": "db5d3f52",
   "metadata": {
    "lines_to_next_cell": 1
   },
   "outputs": [],
   "source": [
    "# Function to predict the output\n",
    "def predict(x, w, b):\n",
    "    y_pred = x @ w + b\n",
    "    return y_pred"
   ]
  },
  {
   "cell_type": "code",
   "execution_count": null,
   "id": "57d5a27a",
   "metadata": {
    "lines_to_next_cell": 1
   },
   "outputs": [],
   "source": [
    "# Function to compute the cost\n",
    "def compute_cost(x, y, y_pred):\n",
    "    m, n = x.shape\n",
    "    err = y_pred - y\n",
    "    cost = err * err\n",
    "    cost = np.sum(cost)\n",
    "    return cost / (2 * m)"
   ]
  },
  {
   "cell_type": "code",
   "execution_count": null,
   "id": "47f70d02",
   "metadata": {
    "lines_to_next_cell": 1
   },
   "outputs": [],
   "source": [
    "# Function to compute the gradient\n",
    "def gradient(x, y, y_pred):\n",
    "    m, _ = x.shape\n",
    "    err = y_pred - y\n",
    "    dw = x.T @ err\n",
    "    db = np.sum(err)\n",
    "    return dw / m, db / m"
   ]
  },
  {
   "cell_type": "code",
   "execution_count": null,
   "id": "283e864f",
   "metadata": {
    "lines_to_next_cell": 1
   },
   "outputs": [],
   "source": [
    "# Function for gradient descent\n",
    "def gradient_descent(x, y, w, b, lr, itera):\n",
    "    for i in range(itera + 1):\n",
    "        y_pred = predict(x, w, b)\n",
    "        dw, db = gradient(x, y, y_pred)\n",
    "        w = w - lr * dw\n",
    "        b = b - lr * db\n",
    "        if i % 1000 == 0:\n",
    "            cost = compute_cost(x, y, y_pred)\n",
    "            print(f\"Cost after {i} iterations: {cost}\")\n",
    "    return w, b"
   ]
  },
  {
   "cell_type": "code",
   "execution_count": null,
   "id": "17c0fbc3",
   "metadata": {
    "lines_to_next_cell": 0
   },
   "outputs": [],
   "source": [
    "# Load data from CSV\n",
    "data = pd.read_csv(\"D:\\\\HP\\\\users\\\\OneDrive\\\\Desktop\\\\AI ML\\\\train and test\\\\linear_train.csv\")\n",
    "\n",
    "# Extract features and target variable\n",
    "x = data.iloc[:45000, 1:21].values\n",
    "y = data.iloc[:45000, 21:22].values\n",
    "\n",
    "# Initialize weights and bias\n",
    "m, n = x.shape\n",
    "w = np.zeros((n, 1))\n",
    "b = 0\n",
    "\n",
    "# Set hyperparameters\n",
    "itera = 12000\n",
    "lr = 8e-4\n",
    "\n",
    "# Apply Z-score normalization and perform gradient descent\n",
    "w, b = gradient_descent(zscore(x), y, w, b, lr, itera)\n",
    "\n",
    "# Predict using the trained model on test data\n",
    "x_test = data.iloc[49990:, 1:21].values\n",
    "y_predic = predict(zscore(x_test), w, b)\n",
    "\n",
    "# Display predictions\n",
    "print(\"Predictions:\", y_predic)\n",
    "\n",
    "# Plot the results (example plot, modify as needed)\n",
    "plt.scatter(x_test[:, 0], y_predic, color='red')\n",
    "plt.xlabel('Feature 1')\n",
    "plt.ylabel('Predicted Output')\n",
    "plt.title('Linear Regression Predictions')\n",
    "plt.show()"
   ]
  },
  {
   "cell_type": "code",
   "execution_count": null,
   "id": "75c7e3b2",
   "metadata": {},
   "outputs": [],
   "source": []
  }
 ],
 "metadata": {
  "jupytext": {
   "cell_metadata_filter": "-all",
   "main_language": "python",
   "notebook_metadata_filter": "-all"
  }
 },
 "nbformat": 4,
 "nbformat_minor": 5
}
